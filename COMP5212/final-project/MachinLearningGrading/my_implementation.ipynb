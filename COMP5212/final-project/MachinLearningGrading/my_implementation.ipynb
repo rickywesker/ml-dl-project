{
 "cells": [
  {
   "cell_type": "code",
   "execution_count": 1,
   "metadata": {},
   "outputs": [
    {
     "name": "stderr",
     "output_type": "stream",
     "text": [
      "d:\\Apps\\conda\\envs\\ml\\lib\\site-packages\\tqdm\\auto.py:21: TqdmWarning: IProgress not found. Please update jupyter and ipywidgets. See https://ipywidgets.readthedocs.io/en/stable/user_install.html\n",
      "  from .autonotebook import tqdm as notebook_tqdm\n"
     ]
    }
   ],
   "source": [
    "import numpy as np\n",
    "import optuna\n",
    "import sklearn.datasets\n",
    "import sklearn.metrics\n",
    "from sklearn.model_selection import train_test_split\n",
    "import xgboost as xgb"
   ]
  },
  {
   "cell_type": "code",
   "execution_count": 6,
   "metadata": {},
   "outputs": [],
   "source": [
    "import pandas as pd"
   ]
  },
  {
   "cell_type": "code",
   "execution_count": 11,
   "metadata": {},
   "outputs": [],
   "source": [
    "def get_data():\n",
    "    df = pd.read_csv('../data/train.csv')\n",
    "    y = df['Label'].values\n",
    "    X = df.drop(columns=['Label']).values\n",
    "    return X, y\n",
    "\n"
   ]
  },
  {
   "cell_type": "code",
   "execution_count": 10,
   "metadata": {},
   "outputs": [
    {
     "data": {
      "text/plain": [
       "array([1, 1, 0, ..., 0, 0, 1], dtype=int64)"
      ]
     },
     "execution_count": 10,
     "metadata": {},
     "output_type": "execute_result"
    }
   ],
   "source": []
  },
  {
   "cell_type": "code",
   "execution_count": 12,
   "metadata": {},
   "outputs": [],
   "source": [
    "def objective(trial):\n",
    "    (data, target) = get_data()\n",
    "    train_x, valid_x, train_y, valid_y = train_test_split(data, target, test_size=0.25)\n",
    "    dtrain = xgb.DMatrix(train_x, label=train_y)\n",
    "    dvalid = xgb.DMatrix(valid_x, label=valid_y)\n",
    "\n",
    "    param = {\n",
    "        \"verbosity\": 0,\n",
    "        \"objective\": \"binary:logistic\",\n",
    "        # use exact for small dataset.\n",
    "        \"tree_method\": \"exact\",\n",
    "        # defines booster, gblinear for linear functions.\n",
    "        \"booster\": trial.suggest_categorical(\"booster\", [\"gbtree\", \"gblinear\", \"dart\"]),\n",
    "        # L2 regularization weight.\n",
    "        \"lambda\": trial.suggest_float(\"lambda\", 1e-8, 1.0, log=True),\n",
    "        # L1 regularization weight.\n",
    "        \"alpha\": trial.suggest_float(\"alpha\", 1e-8, 1.0, log=True),\n",
    "        # sampling ratio for training data.\n",
    "        \"subsample\": trial.suggest_float(\"subsample\", 0.2, 1.0),\n",
    "        # sampling according to each tree.\n",
    "        \"colsample_bytree\": trial.suggest_float(\"colsample_bytree\", 0.2, 1.0),\n",
    "    }\n",
    "\n",
    "    if param[\"booster\"] in [\"gbtree\", \"dart\"]:\n",
    "        # maximum depth of the tree, signifies complexity of the tree.\n",
    "        param[\"max_depth\"] = trial.suggest_int(\"max_depth\", 3, 9, step=2)\n",
    "        # minimum child weight, larger the term more conservative the tree.\n",
    "        param[\"min_child_weight\"] = trial.suggest_int(\"min_child_weight\", 2, 10)\n",
    "        param[\"eta\"] = trial.suggest_float(\"eta\", 1e-8, 1.0, log=True)\n",
    "        # defines how selective algorithm is.\n",
    "        param[\"gamma\"] = trial.suggest_float(\"gamma\", 1e-8, 1.0, log=True)\n",
    "        param[\"grow_policy\"] = trial.suggest_categorical(\"grow_policy\", [\"depthwise\", \"lossguide\"])\n",
    "\n",
    "    if param[\"booster\"] == \"dart\":\n",
    "        param[\"sample_type\"] = trial.suggest_categorical(\"sample_type\", [\"uniform\", \"weighted\"])\n",
    "        param[\"normalize_type\"] = trial.suggest_categorical(\"normalize_type\", [\"tree\", \"forest\"])\n",
    "        param[\"rate_drop\"] = trial.suggest_float(\"rate_drop\", 1e-8, 1.0, log=True)\n",
    "        param[\"skip_drop\"] = trial.suggest_float(\"skip_drop\", 1e-8, 1.0, log=True)\n",
    "\n",
    "    bst = xgb.train(param, dtrain)\n",
    "    preds = bst.predict(dvalid)\n",
    "    pred_labels = np.rint(preds)\n",
    "    accuracy = sklearn.metrics.accuracy_score(valid_y, pred_labels)\n",
    "    return accuracy"
   ]
  },
  {
   "cell_type": "code",
   "execution_count": 13,
   "metadata": {},
   "outputs": [
    {
     "name": "stderr",
     "output_type": "stream",
     "text": [
      "[I 2024-04-18 13:05:09,762] A new study created in memory with name: no-name-885d8efb-317f-491f-ab40-d3dd123a200d\n",
      "[I 2024-04-18 13:05:09,798] Trial 0 finished with value: 0.80625 and parameters: {'booster': 'dart', 'lambda': 1.841094062633413e-05, 'alpha': 5.1176697731047006e-06, 'subsample': 0.6378483363471373, 'colsample_bytree': 0.5232792168415564, 'max_depth': 7, 'min_child_weight': 9, 'eta': 0.0041539266887273595, 'gamma': 0.00020497200990155515, 'grow_policy': 'lossguide', 'sample_type': 'uniform', 'normalize_type': 'tree', 'rate_drop': 0.0025190525089800286, 'skip_drop': 1.2508869663873379e-05}. Best is trial 0 with value: 0.80625.\n",
      "[I 2024-04-18 13:05:09,828] Trial 1 finished with value: 0.83625 and parameters: {'booster': 'gbtree', 'lambda': 3.554081933979355e-05, 'alpha': 0.10888569298411195, 'subsample': 0.6596532351593277, 'colsample_bytree': 0.6669442981309006, 'max_depth': 9, 'min_child_weight': 2, 'eta': 0.30575550580260596, 'gamma': 3.25439035905628e-05, 'grow_policy': 'lossguide'}. Best is trial 1 with value: 0.83625.\n",
      "[I 2024-04-18 13:05:09,850] Trial 2 finished with value: 0.74875 and parameters: {'booster': 'gbtree', 'lambda': 1.5370218597724062e-07, 'alpha': 0.00018482411819927807, 'subsample': 0.33236487116689284, 'colsample_bytree': 0.3122661606160832, 'max_depth': 3, 'min_child_weight': 5, 'eta': 1.7003754613560898e-05, 'gamma': 0.43566351240083745, 'grow_policy': 'lossguide'}. Best is trial 1 with value: 0.83625.\n",
      "[I 2024-04-18 13:05:09,876] Trial 3 finished with value: 0.68 and parameters: {'booster': 'gbtree', 'lambda': 0.015339419487612827, 'alpha': 1.565661872399302e-06, 'subsample': 0.5187234854092737, 'colsample_bytree': 0.2262606604025118, 'max_depth': 9, 'min_child_weight': 7, 'eta': 0.001795820079240788, 'gamma': 1.046749627708522e-06, 'grow_policy': 'lossguide'}. Best is trial 1 with value: 0.83625.\n",
      "[I 2024-04-18 13:05:09,904] Trial 4 finished with value: 0.82 and parameters: {'booster': 'gbtree', 'lambda': 0.19924664055367522, 'alpha': 0.008756150726759152, 'subsample': 0.6039670573022999, 'colsample_bytree': 0.9052956527868223, 'max_depth': 5, 'min_child_weight': 4, 'eta': 7.25824407411834e-08, 'gamma': 0.00262807148265721, 'grow_policy': 'depthwise'}. Best is trial 1 with value: 0.83625.\n",
      "[I 2024-04-18 13:05:09,926] Trial 5 finished with value: 0.78625 and parameters: {'booster': 'gbtree', 'lambda': 0.0006319335524351753, 'alpha': 2.7100571407945072e-06, 'subsample': 0.950032315371963, 'colsample_bytree': 0.5388205916517272, 'max_depth': 3, 'min_child_weight': 5, 'eta': 2.9621219735458144e-06, 'gamma': 1.4500912904550963e-05, 'grow_policy': 'lossguide'}. Best is trial 1 with value: 0.83625.\n",
      "[I 2024-04-18 13:05:09,950] Trial 6 finished with value: 0.7625 and parameters: {'booster': 'dart', 'lambda': 2.619047298575224e-06, 'alpha': 0.0008025011653460064, 'subsample': 0.38540851378011776, 'colsample_bytree': 0.5471193416713291, 'max_depth': 3, 'min_child_weight': 4, 'eta': 3.280459329427648e-06, 'gamma': 4.041590094513148e-06, 'grow_policy': 'depthwise', 'sample_type': 'weighted', 'normalize_type': 'forest', 'rate_drop': 0.8793759798077024, 'skip_drop': 0.43275885679157966}. Best is trial 1 with value: 0.83625.\n",
      "[I 2024-04-18 13:05:09,966] Trial 7 finished with value: 0.74875 and parameters: {'booster': 'gblinear', 'lambda': 1.3518377509492625e-06, 'alpha': 2.152481172532829e-07, 'subsample': 0.6839450534994622, 'colsample_bytree': 0.744068520547126}. Best is trial 1 with value: 0.83625.\n",
      "[I 2024-04-18 13:05:09,980] Trial 8 finished with value: 0.7625 and parameters: {'booster': 'gblinear', 'lambda': 0.00013070983439273943, 'alpha': 0.005088043169455067, 'subsample': 0.21633017521146203, 'colsample_bytree': 0.3482605364157488}. Best is trial 1 with value: 0.83625.\n",
      "[I 2024-04-18 13:05:10,034] Trial 9 finished with value: 0.76 and parameters: {'booster': 'dart', 'lambda': 0.0017751887902422625, 'alpha': 2.902149590785095e-08, 'subsample': 0.9728980689931741, 'colsample_bytree': 0.32727743428631273, 'max_depth': 7, 'min_child_weight': 10, 'eta': 0.0005742718205097118, 'gamma': 0.0014690039686866283, 'grow_policy': 'depthwise', 'sample_type': 'uniform', 'normalize_type': 'forest', 'rate_drop': 0.17364140312213494, 'skip_drop': 0.0018356351452936356}. Best is trial 1 with value: 0.83625.\n",
      "[I 2024-04-18 13:05:10,106] Trial 10 finished with value: 0.8575 and parameters: {'booster': 'gbtree', 'lambda': 3.909031649849809e-08, 'alpha': 0.2805195356323177, 'subsample': 0.8253042336585656, 'colsample_bytree': 0.7439511666354944, 'max_depth': 9, 'min_child_weight': 2, 'eta': 0.627883065041298, 'gamma': 2.0555624748577436e-08, 'grow_policy': 'lossguide'}. Best is trial 10 with value: 0.8575.\n",
      "[I 2024-04-18 13:05:10,173] Trial 11 finished with value: 0.86125 and parameters: {'booster': 'gbtree', 'lambda': 1.3081804266702987e-08, 'alpha': 0.7887870004958248, 'subsample': 0.7908625370874026, 'colsample_bytree': 0.7232730190973921, 'max_depth': 9, 'min_child_weight': 2, 'eta': 0.9589909391198983, 'gamma': 1.0789896811710993e-08, 'grow_policy': 'lossguide'}. Best is trial 11 with value: 0.86125.\n",
      "[I 2024-04-18 13:05:10,240] Trial 12 finished with value: 0.84875 and parameters: {'booster': 'gbtree', 'lambda': 1.1803315964073296e-08, 'alpha': 0.6713058907398926, 'subsample': 0.8089285268699083, 'colsample_bytree': 0.8683806847805667, 'max_depth': 9, 'min_child_weight': 2, 'eta': 0.47209158105708227, 'gamma': 1.4258178715229871e-08, 'grow_policy': 'lossguide'}. Best is trial 11 with value: 0.86125.\n",
      "[I 2024-04-18 13:05:10,307] Trial 13 finished with value: 0.85625 and parameters: {'booster': 'gbtree', 'lambda': 1.1980170583648646e-08, 'alpha': 0.9275665009130502, 'subsample': 0.7973849882131818, 'colsample_bytree': 0.7834654240585097, 'max_depth': 7, 'min_child_weight': 2, 'eta': 0.03573294174042508, 'gamma': 2.4590591119630973e-08, 'grow_policy': 'lossguide'}. Best is trial 11 with value: 0.86125.\n",
      "[I 2024-04-18 13:05:10,380] Trial 14 finished with value: 0.8775 and parameters: {'booster': 'gbtree', 'lambda': 1.7530425343203377e-07, 'alpha': 0.04124730293310747, 'subsample': 0.8243216661774506, 'colsample_bytree': 0.969203559750932, 'max_depth': 9, 'min_child_weight': 3, 'eta': 0.05913197693988899, 'gamma': 1.6977595149678425e-07, 'grow_policy': 'lossguide'}. Best is trial 14 with value: 0.8775.\n",
      "[I 2024-04-18 13:05:10,415] Trial 15 finished with value: 0.7625 and parameters: {'booster': 'gblinear', 'lambda': 4.1071445972558243e-07, 'alpha': 0.023472733194775452, 'subsample': 0.8830677160690148, 'colsample_bytree': 0.9543961268625059}. Best is trial 14 with value: 0.8775.\n",
      "[I 2024-04-18 13:05:10,483] Trial 16 finished with value: 0.8175 and parameters: {'booster': 'gbtree', 'lambda': 1.794952042753785e-07, 'alpha': 0.0446173670832247, 'subsample': 0.748656526448793, 'colsample_bytree': 0.9845968651673201, 'max_depth': 5, 'min_child_weight': 4, 'eta': 0.025512318734707447, 'gamma': 2.919212509560478e-07, 'grow_policy': 'lossguide'}. Best is trial 14 with value: 0.8775.\n",
      "[I 2024-04-18 13:05:10,548] Trial 17 finished with value: 0.85125 and parameters: {'booster': 'gbtree', 'lambda': 2.0158796665732475e-06, 'alpha': 0.0037250938792751974, 'subsample': 0.5116878439383917, 'colsample_bytree': 0.8324996989047861, 'max_depth': 7, 'min_child_weight': 7, 'eta': 0.04096088605647915, 'gamma': 3.257790913330796e-07, 'grow_policy': 'depthwise'}. Best is trial 14 with value: 0.8775.\n",
      "[I 2024-04-18 13:05:10,636] Trial 18 finished with value: 0.8375 and parameters: {'booster': 'dart', 'lambda': 7.081259539033556e-08, 'alpha': 5.511344315277613e-05, 'subsample': 0.8841309174303968, 'colsample_bytree': 0.6502431142475349, 'max_depth': 9, 'min_child_weight': 3, 'eta': 0.00013566664862371217, 'gamma': 1.1452294378770679e-07, 'grow_policy': 'lossguide', 'sample_type': 'weighted', 'normalize_type': 'tree', 'rate_drop': 3.4865792621109086e-08, 'skip_drop': 1.0377636345853593e-08}. Best is trial 14 with value: 0.8775.\n",
      "[I 2024-04-18 13:05:10,672] Trial 19 finished with value: 0.75625 and parameters: {'booster': 'gblinear', 'lambda': 7.3710074961978715e-06, 'alpha': 0.0004626007040589915, 'subsample': 0.7200854320339636, 'colsample_bytree': 0.4424741776661127}. Best is trial 14 with value: 0.8775.\n",
      "[I 2024-04-18 13:05:10,742] Trial 20 finished with value: 0.765 and parameters: {'booster': 'gbtree', 'lambda': 3.96014985168674e-07, 'alpha': 0.04173117397926307, 'subsample': 0.5289792186113337, 'colsample_bytree': 0.6320299436532484, 'max_depth': 9, 'min_child_weight': 3, 'eta': 1.3619342228119108e-08, 'gamma': 2.5456757897292032e-06, 'grow_policy': 'lossguide'}. Best is trial 14 with value: 0.8775.\n",
      "[I 2024-04-18 13:05:10,815] Trial 21 finished with value: 0.8425 and parameters: {'booster': 'gbtree', 'lambda': 3.620608615421756e-08, 'alpha': 0.2306310840940324, 'subsample': 0.8543306737627556, 'colsample_bytree': 0.7434911274155299, 'max_depth': 9, 'min_child_weight': 3, 'eta': 0.9052393237538056, 'gamma': 2.275894559461578e-08, 'grow_policy': 'lossguide'}. Best is trial 14 with value: 0.8775.\n",
      "[I 2024-04-18 13:05:10,889] Trial 22 finished with value: 0.83625 and parameters: {'booster': 'gbtree', 'lambda': 5.062707252044142e-08, 'alpha': 0.2715473491302971, 'subsample': 0.7813867094732474, 'colsample_bytree': 0.7074560583030692, 'max_depth': 9, 'min_child_weight': 2, 'eta': 0.10808464001499568, 'gamma': 1.0044776510779007e-08, 'grow_policy': 'lossguide'}. Best is trial 14 with value: 0.8775.\n",
      "[I 2024-04-18 13:05:10,964] Trial 23 finished with value: 0.865 and parameters: {'booster': 'gbtree', 'lambda': 1.2490482017463215e-08, 'alpha': 0.9857334696477089, 'subsample': 0.9948549043688817, 'colsample_bytree': 0.8099595562788746, 'max_depth': 7, 'min_child_weight': 3, 'eta': 0.008531539028385061, 'gamma': 1.2479498234682792e-07, 'grow_policy': 'lossguide'}. Best is trial 14 with value: 0.8775.\n",
      "[I 2024-04-18 13:05:11,037] Trial 24 finished with value: 0.8475 and parameters: {'booster': 'gbtree', 'lambda': 1.1551887106120865e-08, 'alpha': 0.09326848938630439, 'subsample': 0.9259389241420836, 'colsample_bytree': 0.820099581088207, 'max_depth': 7, 'min_child_weight': 5, 'eta': 0.0065287615681522155, 'gamma': 1.2082810153172924e-07, 'grow_policy': 'lossguide'}. Best is trial 14 with value: 0.8775.\n",
      "[I 2024-04-18 13:05:11,105] Trial 25 finished with value: 0.80125 and parameters: {'booster': 'gbtree', 'lambda': 6.883472076487759e-07, 'alpha': 0.014081079524545527, 'subsample': 0.9756197127416351, 'colsample_bytree': 0.91457230724071, 'max_depth': 5, 'min_child_weight': 3, 'eta': 0.013020162842566567, 'gamma': 1.0893743805895908e-07, 'grow_policy': 'lossguide'}. Best is trial 14 with value: 0.8775.\n",
      "[I 2024-04-18 13:05:11,176] Trial 26 finished with value: 0.8325 and parameters: {'booster': 'gbtree', 'lambda': 1.1434812549972459e-07, 'alpha': 0.7184015538235267, 'subsample': 0.9147871141185232, 'colsample_bytree': 0.9957160691714821, 'max_depth': 7, 'min_child_weight': 6, 'eta': 0.10947088517071013, 'gamma': 8.645886985900187e-07, 'grow_policy': 'lossguide'}. Best is trial 14 with value: 0.8775.\n",
      "[I 2024-04-18 13:05:11,247] Trial 27 finished with value: 0.83125 and parameters: {'booster': 'gbtree', 'lambda': 7.011776349003779e-06, 'alpha': 0.0011526270137736177, 'subsample': 0.9972744301959992, 'colsample_bytree': 0.870975818514706, 'max_depth': 7, 'min_child_weight': 4, 'eta': 0.0007262939704856465, 'gamma': 0.11877075055662699, 'grow_policy': 'depthwise'}. Best is trial 14 with value: 0.8775.\n",
      "[I 2024-04-18 13:05:11,281] Trial 28 finished with value: 0.71625 and parameters: {'booster': 'gblinear', 'lambda': 3.052279808048395e-08, 'alpha': 0.09944269715075407, 'subsample': 0.7407624938425537, 'colsample_bytree': 0.8106967549556154}. Best is trial 14 with value: 0.8775.\n",
      "[I 2024-04-18 13:05:11,371] Trial 29 finished with value: 0.8525 and parameters: {'booster': 'dart', 'lambda': 4.524490975120875e-05, 'alpha': 2.0317451517855198e-05, 'subsample': 0.867432159713636, 'colsample_bytree': 0.9210383783218438, 'max_depth': 9, 'min_child_weight': 3, 'eta': 0.21787298348069664, 'gamma': 6.21474131804724e-06, 'grow_policy': 'lossguide', 'sample_type': 'uniform', 'normalize_type': 'tree', 'rate_drop': 9.346697336470514e-08, 'skip_drop': 1.0748762751506609e-08}. Best is trial 14 with value: 0.8775.\n",
      "[I 2024-04-18 13:05:11,452] Trial 30 finished with value: 0.76625 and parameters: {'booster': 'dart', 'lambda': 2.847379632763565e-07, 'alpha': 0.9648006020403272, 'subsample': 0.5793804270285958, 'colsample_bytree': 0.582116186911925, 'max_depth': 5, 'min_child_weight': 8, 'eta': 0.06905093689032947, 'gamma': 0.00012428637522102456, 'grow_policy': 'lossguide', 'sample_type': 'weighted', 'normalize_type': 'forest', 'rate_drop': 1.6532361423100605e-05, 'skip_drop': 0.787446012073193}. Best is trial 14 with value: 0.8775.\n",
      "[I 2024-04-18 13:05:11,526] Trial 31 finished with value: 0.82875 and parameters: {'booster': 'gbtree', 'lambda': 3.1086569300622644e-08, 'alpha': 0.24781159348861484, 'subsample': 0.8174834515960288, 'colsample_bytree': 0.7046022540740472, 'max_depth': 9, 'min_child_weight': 2, 'eta': 0.8139380778089409, 'gamma': 8.787269309074932e-08, 'grow_policy': 'lossguide'}. Best is trial 14 with value: 0.8775.\n",
      "[I 2024-04-18 13:05:11,598] Trial 32 finished with value: 0.86125 and parameters: {'booster': 'gbtree', 'lambda': 1.1180781144702146e-08, 'alpha': 0.20494849790553143, 'subsample': 0.6828688897968848, 'colsample_bytree': 0.7602170002856476, 'max_depth': 9, 'min_child_weight': 2, 'eta': 0.19317648346908328, 'gamma': 3.164953981040127e-08, 'grow_policy': 'lossguide'}. Best is trial 14 with value: 0.8775.\n",
      "[I 2024-04-18 13:05:11,669] Trial 33 finished with value: 0.8475 and parameters: {'booster': 'gbtree', 'lambda': 1.104359661259839e-08, 'alpha': 0.06973588417896408, 'subsample': 0.6708179880072851, 'colsample_bytree': 0.678307367433444, 'max_depth': 9, 'min_child_weight': 3, 'eta': 0.008827690809445475, 'gamma': 5.345400037308155e-08, 'grow_policy': 'lossguide'}. Best is trial 14 with value: 0.8775.\n",
      "[I 2024-04-18 13:05:11,742] Trial 34 finished with value: 0.845 and parameters: {'booster': 'gbtree', 'lambda': 1.0948672580276092e-07, 'alpha': 0.002978942787556779, 'subsample': 0.6236866201962108, 'colsample_bytree': 0.7815612296871072, 'max_depth': 9, 'min_child_weight': 2, 'eta': 0.14975860503608604, 'gamma': 6.787259938885733e-07, 'grow_policy': 'lossguide'}. Best is trial 14 with value: 0.8775.\n",
      "[I 2024-04-18 13:05:11,813] Trial 35 finished with value: 0.8225 and parameters: {'booster': 'gbtree', 'lambda': 0.37024890610675903, 'alpha': 0.01950364516673463, 'subsample': 0.7057126213419284, 'colsample_bytree': 0.8622798381424979, 'max_depth': 7, 'min_child_weight': 4, 'eta': 0.004336513154647328, 'gamma': 4.0096329647171826e-07, 'grow_policy': 'lossguide'}. Best is trial 14 with value: 0.8775.\n",
      "[I 2024-04-18 13:05:11,884] Trial 36 finished with value: 0.82875 and parameters: {'booster': 'gbtree', 'lambda': 1.2600180046328388e-07, 'alpha': 0.18334222328934552, 'subsample': 0.7721336092085129, 'colsample_bytree': 0.46974043653399455, 'max_depth': 7, 'min_child_weight': 3, 'eta': 0.0018450399616586407, 'gamma': 4.986005601016077e-08, 'grow_policy': 'lossguide'}. Best is trial 14 with value: 0.8775.\n",
      "[I 2024-04-18 13:05:11,956] Trial 37 finished with value: 0.83875 and parameters: {'booster': 'gbtree', 'lambda': 2.5334307691439125e-08, 'alpha': 0.3721649781112505, 'subsample': 0.5768803616817667, 'colsample_bytree': 0.6016000397090775, 'max_depth': 9, 'min_child_weight': 2, 'eta': 0.02589781671709574, 'gamma': 3.581887110227555e-05, 'grow_policy': 'lossguide'}. Best is trial 14 with value: 0.8775.\n",
      "[I 2024-04-18 13:05:12,027] Trial 38 finished with value: 0.84375 and parameters: {'booster': 'gbtree', 'lambda': 0.01890353536896313, 'alpha': 0.03230671741586301, 'subsample': 0.6442794329650162, 'colsample_bytree': 0.7717107069514003, 'max_depth': 9, 'min_child_weight': 6, 'eta': 0.23595446681737725, 'gamma': 2.2818567907940424e-06, 'grow_policy': 'lossguide'}. Best is trial 14 with value: 0.8775.\n",
      "[I 2024-04-18 13:05:12,100] Trial 39 finished with value: 0.8 and parameters: {'booster': 'gbtree', 'lambda': 1.3034647622692385e-06, 'alpha': 0.010002090679261064, 'subsample': 0.9341311332531825, 'colsample_bytree': 0.9415752227446517, 'max_depth': 7, 'min_child_weight': 5, 'eta': 0.00024635224547362507, 'gamma': 0.0010805593420627113, 'grow_policy': 'depthwise'}. Best is trial 14 with value: 0.8775.\n",
      "[I 2024-04-18 13:05:12,171] Trial 40 finished with value: 0.85875 and parameters: {'booster': 'gbtree', 'lambda': 0.00041625092408737027, 'alpha': 0.11225622688829404, 'subsample': 0.43871406688650877, 'colsample_bytree': 0.6957578684635195, 'max_depth': 9, 'min_child_weight': 3, 'eta': 0.28150469815995116, 'gamma': 2.0899307601642617e-07, 'grow_policy': 'lossguide'}. Best is trial 14 with value: 0.8775.\n",
      "[I 2024-04-18 13:05:12,241] Trial 41 finished with value: 0.8575 and parameters: {'booster': 'gbtree', 'lambda': 0.000897693684439439, 'alpha': 0.08322388733009152, 'subsample': 0.4209464515779846, 'colsample_bytree': 0.6970839766951992, 'max_depth': 9, 'min_child_weight': 3, 'eta': 0.23517293192360944, 'gamma': 1.7546498674824065e-07, 'grow_policy': 'lossguide'}. Best is trial 14 with value: 0.8775.\n",
      "[I 2024-04-18 13:05:12,308] Trial 42 finished with value: 0.785 and parameters: {'booster': 'gbtree', 'lambda': 0.00024498556308032084, 'alpha': 0.44645205440606806, 'subsample': 0.28256213116961393, 'colsample_bytree': 0.6054359683707026, 'max_depth': 9, 'min_child_weight': 4, 'eta': 0.9928178053174683, 'gamma': 4.6722279148440604e-08, 'grow_policy': 'lossguide'}. Best is trial 14 with value: 0.8775.\n",
      "[I 2024-04-18 13:05:12,382] Trial 43 finished with value: 0.6525 and parameters: {'booster': 'gbtree', 'lambda': 0.008777160441365724, 'alpha': 0.15414119919425312, 'subsample': 0.3897413876464103, 'colsample_bytree': 0.21989934538060302, 'max_depth': 9, 'min_child_weight': 2, 'eta': 0.09555940274999193, 'gamma': 1.1843029193508242e-06, 'grow_policy': 'lossguide'}. Best is trial 14 with value: 0.8775.\n",
      "[I 2024-04-18 13:05:12,458] Trial 44 finished with value: 0.8475 and parameters: {'booster': 'gbtree', 'lambda': 0.004664985031765043, 'alpha': 7.215628624761841e-07, 'subsample': 0.4636049090712392, 'colsample_bytree': 0.7301741677927387, 'max_depth': 9, 'min_child_weight': 3, 'eta': 0.017763601105997055, 'gamma': 3.425084886164637e-08, 'grow_policy': 'lossguide'}. Best is trial 14 with value: 0.8775.\n",
      "[I 2024-04-18 13:05:12,495] Trial 45 finished with value: 0.74625 and parameters: {'booster': 'gblinear', 'lambda': 0.059595056768340676, 'alpha': 0.0074389153624121055, 'subsample': 0.3030914832990008, 'colsample_bytree': 0.8421897257950713}. Best is trial 14 with value: 0.8775.\n",
      "[I 2024-04-18 13:05:12,584] Trial 46 finished with value: 0.8225 and parameters: {'booster': 'dart', 'lambda': 0.00032609534397851417, 'alpha': 1.2347953138861618e-08, 'subsample': 0.685016341858387, 'colsample_bytree': 0.6412008658976759, 'max_depth': 9, 'min_child_weight': 4, 'eta': 0.002258635614175663, 'gamma': 0.018512558724099116, 'grow_policy': 'lossguide', 'sample_type': 'uniform', 'normalize_type': 'tree', 'rate_drop': 1.4794598748090417e-05, 'skip_drop': 1.2113232457251264e-05}. Best is trial 14 with value: 0.8775.\n",
      "[I 2024-04-18 13:05:12,660] Trial 47 finished with value: 0.82 and parameters: {'booster': 'gbtree', 'lambda': 1.637064639098478e-05, 'alpha': 0.002014377209964672, 'subsample': 0.8291462902825499, 'colsample_bytree': 0.8829409252320717, 'max_depth': 9, 'min_child_weight': 2, 'eta': 3.288693770402972e-05, 'gamma': 1.1155942936995914e-05, 'grow_policy': 'depthwise'}. Best is trial 14 with value: 0.8775.\n",
      "[I 2024-04-18 13:05:12,727] Trial 48 finished with value: 0.8125 and parameters: {'booster': 'gbtree', 'lambda': 0.00010647314530881352, 'alpha': 0.39994023321695166, 'subsample': 0.7558680890480238, 'colsample_bytree': 0.8046039572615876, 'max_depth': 3, 'min_child_weight': 5, 'eta': 0.3429792417277283, 'gamma': 1.2611274218738173e-08, 'grow_policy': 'lossguide'}. Best is trial 14 with value: 0.8775.\n",
      "[I 2024-04-18 13:05:12,799] Trial 49 finished with value: 0.79375 and parameters: {'booster': 'gbtree', 'lambda': 2.116951168393082e-08, 'alpha': 0.9714059783920592, 'subsample': 0.20684448313273163, 'colsample_bytree': 0.5004106314835369, 'max_depth': 7, 'min_child_weight': 10, 'eta': 0.050472804853416195, 'gamma': 3.1003867651373634e-07, 'grow_policy': 'lossguide'}. Best is trial 14 with value: 0.8775.\n",
      "[I 2024-04-18 13:05:12,837] Trial 50 finished with value: 0.75625 and parameters: {'booster': 'gblinear', 'lambda': 0.002041816208807115, 'alpha': 0.049158529491549176, 'subsample': 0.5479123561611885, 'colsample_bytree': 0.5652293400178663}. Best is trial 14 with value: 0.8775.\n",
      "[I 2024-04-18 13:05:12,921] Trial 51 finished with value: 0.83625 and parameters: {'booster': 'gbtree', 'lambda': 7.295766254889615e-08, 'alpha': 0.14104497488931036, 'subsample': 0.8498253283105288, 'colsample_bytree': 0.7558991478706347, 'max_depth': 9, 'min_child_weight': 2, 'eta': 0.4399797619776699, 'gamma': 2.325954418418842e-08, 'grow_policy': 'lossguide'}. Best is trial 14 with value: 0.8775.\n",
      "[I 2024-04-18 13:05:13,002] Trial 52 finished with value: 0.84375 and parameters: {'booster': 'gbtree', 'lambda': 2.3741776500195208e-07, 'alpha': 0.4471050528661432, 'subsample': 0.9025913490678394, 'colsample_bytree': 0.7305360667413016, 'max_depth': 9, 'min_child_weight': 2, 'eta': 0.4478873774760222, 'gamma': 5.255553404101656e-08, 'grow_policy': 'lossguide'}. Best is trial 14 with value: 0.8775.\n",
      "[I 2024-04-18 13:05:13,082] Trial 53 finished with value: 0.85 and parameters: {'booster': 'gbtree', 'lambda': 1.9028846753561328e-08, 'alpha': 0.0002690982612634534, 'subsample': 0.7232946546529609, 'colsample_bytree': 0.6724257016450987, 'max_depth': 9, 'min_child_weight': 3, 'eta': 1.2484304499852505e-06, 'gamma': 2.0739953077280965e-07, 'grow_policy': 'lossguide'}. Best is trial 14 with value: 0.8775.\n",
      "[I 2024-04-18 13:05:13,161] Trial 54 finished with value: 0.86125 and parameters: {'booster': 'gbtree', 'lambda': 5.317621473188664e-08, 'alpha': 0.022665096446829923, 'subsample': 0.7915724011783881, 'colsample_bytree': 0.7873540870092383, 'max_depth': 9, 'min_child_weight': 2, 'eta': 0.06338282872071159, 'gamma': 1.3649720554782868e-08, 'grow_policy': 'lossguide'}. Best is trial 14 with value: 0.8775.\n",
      "[I 2024-04-18 13:05:13,239] Trial 55 finished with value: 0.86875 and parameters: {'booster': 'gbtree', 'lambda': 9.107049827392862e-08, 'alpha': 0.018140010448982963, 'subsample': 0.7963244443227045, 'colsample_bytree': 0.7847891079324633, 'max_depth': 9, 'min_child_weight': 2, 'eta': 0.06413068007020528, 'gamma': 1.176330225898576e-08, 'grow_policy': 'lossguide'}. Best is trial 14 with value: 0.8775.\n",
      "[I 2024-04-18 13:05:13,315] Trial 56 finished with value: 0.8725 and parameters: {'booster': 'gbtree', 'lambda': 6.132032156743606e-07, 'alpha': 0.027434052272979226, 'subsample': 0.7880719239900363, 'colsample_bytree': 0.7892791804541509, 'max_depth': 9, 'min_child_weight': 2, 'eta': 0.049791706335693145, 'gamma': 1.354702621979652e-08, 'grow_policy': 'lossguide'}. Best is trial 14 with value: 0.8775.\n",
      "[I 2024-04-18 13:05:13,401] Trial 57 finished with value: 0.8275 and parameters: {'booster': 'dart', 'lambda': 1.396923306167537e-06, 'alpha': 0.006493100589248559, 'subsample': 0.842930104291689, 'colsample_bytree': 0.8411953583308338, 'max_depth': 5, 'min_child_weight': 2, 'eta': 0.01780153286395497, 'gamma': 1.187317317788495e-08, 'grow_policy': 'depthwise', 'sample_type': 'weighted', 'normalize_type': 'forest', 'rate_drop': 0.0019450809705418729, 'skip_drop': 0.0013796917807828023}. Best is trial 14 with value: 0.8775.\n",
      "[I 2024-04-18 13:05:13,475] Trial 58 finished with value: 0.82125 and parameters: {'booster': 'gbtree', 'lambda': 9.087761153395299e-07, 'alpha': 0.04904542586306313, 'subsample': 0.9522726218123149, 'colsample_bytree': 0.9679387421039176, 'max_depth': 7, 'min_child_weight': 9, 'eta': 0.03321924592455174, 'gamma': 8.271488655377454e-08, 'grow_policy': 'lossguide'}. Best is trial 14 with value: 0.8775.\n",
      "[I 2024-04-18 13:05:13,558] Trial 59 finished with value: 0.8575 and parameters: {'booster': 'gbtree', 'lambda': 3.4610677922097993e-06, 'alpha': 8.43341304509632e-06, 'subsample': 0.8818749935038093, 'colsample_bytree': 0.8980151638365144, 'max_depth': 9, 'min_child_weight': 2, 'eta': 0.007565629789990819, 'gamma': 3.0894837411480934e-08, 'grow_policy': 'lossguide'}. Best is trial 14 with value: 0.8775.\n",
      "[I 2024-04-18 13:05:13,596] Trial 60 finished with value: 0.75375 and parameters: {'booster': 'gblinear', 'lambda': 4.1084296278924173e-07, 'alpha': 0.013140245083154999, 'subsample': 0.6970537410514136, 'colsample_bytree': 0.2836042457913867}. Best is trial 14 with value: 0.8775.\n",
      "[I 2024-04-18 13:05:13,688] Trial 61 finished with value: 0.86875 and parameters: {'booster': 'gbtree', 'lambda': 6.858018941334817e-08, 'alpha': 0.02490491055735021, 'subsample': 0.7900204782052833, 'colsample_bytree': 0.7933424961300922, 'max_depth': 9, 'min_child_weight': 2, 'eta': 0.07633220837486983, 'gamma': 2.1656436832018073e-08, 'grow_policy': 'lossguide'}. Best is trial 14 with value: 0.8775.\n",
      "[I 2024-04-18 13:05:13,770] Trial 62 finished with value: 0.85625 and parameters: {'booster': 'gbtree', 'lambda': 9.223388885836845e-08, 'alpha': 0.032156793549733595, 'subsample': 0.7691140559569771, 'colsample_bytree': 0.8089143143150914, 'max_depth': 9, 'min_child_weight': 3, 'eta': 0.10372500020295748, 'gamma': 1.0111922656996129e-08, 'grow_policy': 'lossguide'}. Best is trial 14 with value: 0.8775.\n",
      "[I 2024-04-18 13:05:13,846] Trial 63 finished with value: 0.87125 and parameters: {'booster': 'gbtree', 'lambda': 1.8979495991265734e-08, 'alpha': 0.0016049276905401107, 'subsample': 0.8027734088895536, 'colsample_bytree': 0.8413692220138959, 'max_depth': 9, 'min_child_weight': 2, 'eta': 0.03775054794267418, 'gamma': 2.6583656738401893e-08, 'grow_policy': 'lossguide'}. Best is trial 14 with value: 0.8775.\n",
      "[I 2024-04-18 13:05:13,922] Trial 64 finished with value: 0.83375 and parameters: {'booster': 'gbtree', 'lambda': 1.9839374861605e-07, 'alpha': 0.001142233297307367, 'subsample': 0.7948891281486362, 'colsample_bytree': 0.8429608108373123, 'max_depth': 9, 'min_child_weight': 2, 'eta': 0.0037489071954397895, 'gamma': 2.4473495582191797e-08, 'grow_policy': 'lossguide'}. Best is trial 14 with value: 0.8775.\n",
      "[I 2024-04-18 13:05:13,999] Trial 65 finished with value: 0.855 and parameters: {'booster': 'gbtree', 'lambda': 5.1433050290122546e-08, 'alpha': 0.0034002692699710143, 'subsample': 0.7437594638727558, 'colsample_bytree': 0.9361874751742485, 'max_depth': 9, 'min_child_weight': 3, 'eta': 0.03956351209749432, 'gamma': 8.631063915424147e-08, 'grow_policy': 'lossguide'}. Best is trial 14 with value: 0.8775.\n",
      "[I 2024-04-18 13:05:14,083] Trial 66 finished with value: 0.87125 and parameters: {'booster': 'gbtree', 'lambda': 5.447890624489368e-07, 'alpha': 0.0005872251119157886, 'subsample': 0.8183175008839245, 'colsample_bytree': 0.8957490823322867, 'max_depth': 9, 'min_child_weight': 2, 'eta': 0.0009358125214320047, 'gamma': 5.070809042396012e-07, 'grow_policy': 'lossguide'}. Best is trial 14 with value: 0.8775.\n",
      "[I 2024-04-18 13:05:14,165] Trial 67 finished with value: 0.835 and parameters: {'booster': 'gbtree', 'lambda': 6.154502258852077e-07, 'alpha': 0.00013819340929663827, 'subsample': 0.8221515831892707, 'colsample_bytree': 0.8942465109870759, 'max_depth': 9, 'min_child_weight': 2, 'eta': 0.0006806469719839302, 'gamma': 5.956860852358927e-07, 'grow_policy': 'lossguide'}. Best is trial 14 with value: 0.8775.\n",
      "[I 2024-04-18 13:05:14,245] Trial 68 finished with value: 0.8375 and parameters: {'booster': 'gbtree', 'lambda': 1.560841951857358e-07, 'alpha': 0.0004314156174758079, 'subsample': 0.8979294372133565, 'colsample_bytree': 0.967419894607149, 'max_depth': 7, 'min_child_weight': 7, 'eta': 0.011098186673190114, 'gamma': 1.2898315531025654e-07, 'grow_policy': 'depthwise'}. Best is trial 14 with value: 0.8775.\n",
      "[I 2024-04-18 13:05:14,342] Trial 69 finished with value: 0.84125 and parameters: {'booster': 'dart', 'lambda': 2.973242082160198e-06, 'alpha': 0.0021321287076552504, 'subsample': 0.870204871188092, 'colsample_bytree': 0.9237105571821222, 'max_depth': 9, 'min_child_weight': 3, 'eta': 0.0003231708651842973, 'gamma': 1.7338194307979084e-06, 'grow_policy': 'lossguide', 'sample_type': 'uniform', 'normalize_type': 'tree', 'rate_drop': 7.004107441911107e-07, 'skip_drop': 5.250130515176332e-07}. Best is trial 14 with value: 0.8775.\n",
      "[I 2024-04-18 13:05:14,426] Trial 70 finished with value: 0.86125 and parameters: {'booster': 'gbtree', 'lambda': 3.404903131672618e-07, 'alpha': 0.0005275939111889838, 'subsample': 0.9885197844475415, 'colsample_bytree': 0.87153832150772, 'max_depth': 9, 'min_child_weight': 2, 'eta': 0.002809951897782762, 'gamma': 5.392812857618038e-08, 'grow_policy': 'lossguide'}. Best is trial 14 with value: 0.8775.\n",
      "[I 2024-04-18 13:05:14,507] Trial 71 finished with value: 0.86125 and parameters: {'booster': 'gbtree', 'lambda': 2.0560674605275467e-08, 'alpha': 8.730638193577057e-05, 'subsample': 0.8162749268737964, 'colsample_bytree': 0.7943335921961916, 'max_depth': 9, 'min_child_weight': 2, 'eta': 0.001174775045430894, 'gamma': 1.9695626525755335e-08, 'grow_policy': 'lossguide'}. Best is trial 14 with value: 0.8775.\n",
      "[I 2024-04-18 13:05:14,586] Trial 72 finished with value: 0.85 and parameters: {'booster': 'gbtree', 'lambda': 4.071503336261613e-08, 'alpha': 3.706976836248641e-05, 'subsample': 0.726314732107257, 'colsample_bytree': 0.8298965036414095, 'max_depth': 9, 'min_child_weight': 3, 'eta': 0.005563187543786782, 'gamma': 1.7972762697426863e-08, 'grow_policy': 'lossguide'}. Best is trial 14 with value: 0.8775.\n",
      "[I 2024-04-18 13:05:14,666] Trial 73 finished with value: 0.84875 and parameters: {'booster': 'gbtree', 'lambda': 8.27374856640707e-08, 'alpha': 0.005778568215752859, 'subsample': 0.7696505807095014, 'colsample_bytree': 0.8497867245488517, 'max_depth': 9, 'min_child_weight': 2, 'eta': 0.019079306851397564, 'gamma': 7.765012903631405e-08, 'grow_policy': 'lossguide'}. Best is trial 14 with value: 0.8775.\n",
      "[I 2024-04-18 13:05:14,747] Trial 74 finished with value: 0.85875 and parameters: {'booster': 'gbtree', 'lambda': 1.6836425143954625e-08, 'alpha': 0.01714655643653016, 'subsample': 0.8406297879770321, 'colsample_bytree': 0.7286203035634498, 'max_depth': 9, 'min_child_weight': 2, 'eta': 0.062132629006658446, 'gamma': 3.3634305430957575e-08, 'grow_policy': 'lossguide'}. Best is trial 14 with value: 0.8775.\n",
      "[I 2024-04-18 13:05:14,829] Trial 75 finished with value: 0.84625 and parameters: {'booster': 'gbtree', 'lambda': 3.469475188517088e-08, 'alpha': 0.0012825037128571621, 'subsample': 0.953055350505871, 'colsample_bytree': 0.7643287817103375, 'max_depth': 9, 'min_child_weight': 3, 'eta': 7.327152204925683e-05, 'gamma': 5.088558286773868e-07, 'grow_policy': 'lossguide'}. Best is trial 14 with value: 0.8775.\n",
      "[I 2024-04-18 13:05:14,908] Trial 76 finished with value: 0.825 and parameters: {'booster': 'gbtree', 'lambda': 1.2749967095400134e-07, 'alpha': 0.0002582648467415649, 'subsample': 0.7834290120455375, 'colsample_bytree': 0.9066030481998644, 'max_depth': 7, 'min_child_weight': 2, 'eta': 0.010803016857928744, 'gamma': 2.1925580974636119e-07, 'grow_policy': 'lossguide'}. Best is trial 14 with value: 0.8775.\n",
      "[I 2024-04-18 13:05:14,984] Trial 77 finished with value: 0.82375 and parameters: {'booster': 'gbtree', 'lambda': 5.497812517642641e-07, 'alpha': 0.01121919728712187, 'subsample': 0.8061271736433374, 'colsample_bytree': 0.8119633215249978, 'max_depth': 5, 'min_child_weight': 3, 'eta': 0.0011461139476147198, 'gamma': 1.3353648795772e-07, 'grow_policy': 'lossguide'}. Best is trial 14 with value: 0.8775.\n",
      "[I 2024-04-18 13:05:15,064] Trial 78 finished with value: 0.85375 and parameters: {'booster': 'gbtree', 'lambda': 6.181299305865887e-08, 'alpha': 0.0758552667121707, 'subsample': 0.6571868501078859, 'colsample_bytree': 0.9794484836948695, 'max_depth': 9, 'min_child_weight': 2, 'eta': 0.13686372908591204, 'gamma': 0.00046777526611529356, 'grow_policy': 'lossguide'}. Best is trial 14 with value: 0.8775.\n",
      "[I 2024-04-18 13:05:15,100] Trial 79 finished with value: 0.49375 and parameters: {'booster': 'gblinear', 'lambda': 1.1090191431361785e-08, 'alpha': 0.5790263281549769, 'subsample': 0.8657538599839568, 'colsample_bytree': 0.8604932928949515}. Best is trial 14 with value: 0.8775.\n",
      "[I 2024-04-18 13:05:15,180] Trial 80 finished with value: 0.745 and parameters: {'booster': 'gbtree', 'lambda': 2.0386654503998625e-07, 'alpha': 0.00064699384143555, 'subsample': 0.9220776915978723, 'colsample_bytree': 0.4020627039781276, 'max_depth': 9, 'min_child_weight': 2, 'eta': 0.025995081598971306, 'gamma': 5.732067951686196e-08, 'grow_policy': 'lossguide'}. Best is trial 14 with value: 0.8775.\n",
      "[I 2024-04-18 13:05:15,261] Trial 81 finished with value: 0.85375 and parameters: {'booster': 'gbtree', 'lambda': 1.3621541737180558e-08, 'alpha': 0.2513063372460689, 'subsample': 0.6155538737768874, 'colsample_bytree': 0.7595915423911926, 'max_depth': 9, 'min_child_weight': 2, 'eta': 0.18536294420509092, 'gamma': 2.7029950047749218e-08, 'grow_policy': 'lossguide'}. Best is trial 14 with value: 0.8775.\n",
      "[I 2024-04-18 13:05:15,340] Trial 82 finished with value: 0.8525 and parameters: {'booster': 'gbtree', 'lambda': 1.0300704361171145e-08, 'alpha': 0.23373625286385483, 'subsample': 0.7473966056996432, 'colsample_bytree': 0.7784226401476879, 'max_depth': 9, 'min_child_weight': 2, 'eta': 0.6084485837420812, 'gamma': 1.633907055938189e-08, 'grow_policy': 'lossguide'}. Best is trial 14 with value: 0.8775.\n",
      "[I 2024-04-18 13:05:15,417] Trial 83 finished with value: 0.85875 and parameters: {'booster': 'gbtree', 'lambda': 2.8534512844650965e-08, 'alpha': 0.03398896074189711, 'subsample': 0.7129257639862643, 'colsample_bytree': 0.719304177715631, 'max_depth': 9, 'min_child_weight': 4, 'eta': 0.09458452817423109, 'gamma': 1.0256506653060158e-08, 'grow_policy': 'lossguide'}. Best is trial 14 with value: 0.8775.\n",
      "[I 2024-04-18 13:05:15,495] Trial 84 finished with value: 0.84625 and parameters: {'booster': 'gbtree', 'lambda': 2.2414978366035324e-08, 'alpha': 0.0661213817451172, 'subsample': 0.8036270183131122, 'colsample_bytree': 0.9989431646138307, 'max_depth': 9, 'min_child_weight': 3, 'eta': 0.045170052320233564, 'gamma': 3.7056389783190035e-08, 'grow_policy': 'lossguide'}. Best is trial 14 with value: 0.8775.\n",
      "[I 2024-04-18 13:05:15,575] Trial 85 finished with value: 0.85625 and parameters: {'booster': 'gbtree', 'lambda': 7.807471934770621e-08, 'alpha': 0.13899664725384492, 'subsample': 0.8278558602523036, 'colsample_bytree': 0.8018341972064842, 'max_depth': 9, 'min_child_weight': 2, 'eta': 0.21584604984725275, 'gamma': 7.991801408015601e-08, 'grow_policy': 'depthwise'}. Best is trial 14 with value: 0.8775.\n",
      "[I 2024-04-18 13:05:15,652] Trial 86 finished with value: 0.84625 and parameters: {'booster': 'gbtree', 'lambda': 4.0853749206330376e-08, 'alpha': 0.6544987331299428, 'subsample': 0.7708760869369186, 'colsample_bytree': 0.8834815714553933, 'max_depth': 9, 'min_child_weight': 3, 'eta': 0.1484729925729297, 'gamma': 6.002351559443595e-05, 'grow_policy': 'lossguide'}. Best is trial 14 with value: 0.8775.\n",
      "[I 2024-04-18 13:05:15,745] Trial 87 finished with value: 0.85125 and parameters: {'booster': 'dart', 'lambda': 1.5983403388425243e-08, 'alpha': 0.004350633190231359, 'subsample': 0.678216430519933, 'colsample_bytree': 0.7485626018479692, 'max_depth': 9, 'min_child_weight': 2, 'eta': 0.07819450669910392, 'gamma': 2.0676013745633604e-08, 'grow_policy': 'lossguide', 'sample_type': 'weighted', 'normalize_type': 'forest', 'rate_drop': 0.015439077847968387, 'skip_drop': 0.01470360288088896}. Best is trial 14 with value: 0.8775.\n",
      "[I 2024-04-18 13:05:15,822] Trial 88 finished with value: 0.84375 and parameters: {'booster': 'gbtree', 'lambda': 4.688355488445189e-05, 'alpha': 0.35543051342281395, 'subsample': 0.7284921571565918, 'colsample_bytree': 0.8216239061895297, 'max_depth': 9, 'min_child_weight': 4, 'eta': 0.016634854974595714, 'gamma': 1.3839123632603923e-07, 'grow_policy': 'lossguide'}. Best is trial 14 with value: 0.8775.\n",
      "[I 2024-04-18 13:05:15,899] Trial 89 finished with value: 0.8575 and parameters: {'booster': 'gbtree', 'lambda': 8.993127371521392e-07, 'alpha': 1.1044616340259254e-07, 'subsample': 0.8587790463817898, 'colsample_bytree': 0.950354555265617, 'max_depth': 7, 'min_child_weight': 2, 'eta': 0.31677811769392356, 'gamma': 0.010541358170788799, 'grow_policy': 'lossguide'}. Best is trial 14 with value: 0.8775.\n",
      "[I 2024-04-18 13:05:15,973] Trial 90 finished with value: 0.80125 and parameters: {'booster': 'gbtree', 'lambda': 1.4460076040422055e-07, 'alpha': 0.18267282548888966, 'subsample': 0.7570011856197192, 'colsample_bytree': 0.623217275444683, 'max_depth': 3, 'min_child_weight': 3, 'eta': 0.6739129303823902, 'gamma': 3.3959884272817065e-07, 'grow_policy': 'lossguide'}. Best is trial 14 with value: 0.8775.\n",
      "[I 2024-04-18 13:05:16,052] Trial 91 finished with value: 0.87375 and parameters: {'booster': 'gbtree', 'lambda': 5.577062152861198e-08, 'alpha': 0.00942908057559565, 'subsample': 0.7954432088110999, 'colsample_bytree': 0.7882734098186279, 'max_depth': 9, 'min_child_weight': 2, 'eta': 0.059154733123563605, 'gamma': 1.3721833002918763e-08, 'grow_policy': 'lossguide'}. Best is trial 14 with value: 0.8775.\n",
      "[I 2024-04-18 13:05:16,131] Trial 92 finished with value: 0.82125 and parameters: {'booster': 'gbtree', 'lambda': 2.8895366305354023e-08, 'alpha': 0.02319793525014996, 'subsample': 0.7833291212233793, 'colsample_bytree': 0.7773908446667056, 'max_depth': 9, 'min_child_weight': 2, 'eta': 0.029859064913967535, 'gamma': 3.891594058343068e-08, 'grow_policy': 'lossguide'}. Best is trial 14 with value: 0.8775.\n",
      "[I 2024-04-18 13:05:16,211] Trial 93 finished with value: 0.84875 and parameters: {'booster': 'gbtree', 'lambda': 2.618026635760127e-07, 'alpha': 0.00939599103428871, 'subsample': 0.8381285737256925, 'colsample_bytree': 0.6870857597506961, 'max_depth': 9, 'min_child_weight': 2, 'eta': 0.05417965655792536, 'gamma': 1.661253743936134e-08, 'grow_policy': 'lossguide'}. Best is trial 14 with value: 0.8775.\n",
      "[I 2024-04-18 13:05:16,291] Trial 94 finished with value: 0.84 and parameters: {'booster': 'gbtree', 'lambda': 5.317377441581535e-08, 'alpha': 0.0024103934478565425, 'subsample': 0.8906828980593433, 'colsample_bytree': 0.6584724877964172, 'max_depth': 9, 'min_child_weight': 2, 'eta': 0.1393465194917574, 'gamma': 0.4364009942685773, 'grow_policy': 'lossguide'}. Best is trial 14 with value: 0.8775.\n",
      "[I 2024-04-18 13:05:16,370] Trial 95 finished with value: 0.85875 and parameters: {'booster': 'gbtree', 'lambda': 1.0446244756975508e-07, 'alpha': 0.015819519861527746, 'subsample': 0.8012448548964414, 'colsample_bytree': 0.825838752750369, 'max_depth': 9, 'min_child_weight': 3, 'eta': 0.39143833580920295, 'gamma': 5.527670793934762e-08, 'grow_policy': 'lossguide'}. Best is trial 14 with value: 0.8775.\n",
      "[I 2024-04-18 13:05:16,409] Trial 96 finished with value: 0.73875 and parameters: {'booster': 'gblinear', 'lambda': 1.6453274291192106e-08, 'alpha': 0.0545710207855902, 'subsample': 0.7061448371738541, 'colsample_bytree': 0.7492527130092079}. Best is trial 14 with value: 0.8775.\n",
      "[I 2024-04-18 13:05:16,495] Trial 97 finished with value: 0.82 and parameters: {'booster': 'gbtree', 'lambda': 3.427976751690827e-08, 'alpha': 0.001544862739315867, 'subsample': 0.7587262321898249, 'colsample_bytree': 0.8630661496994051, 'max_depth': 9, 'min_child_weight': 2, 'eta': 0.07930243563941528, 'gamma': 0.9310923841797658, 'grow_policy': 'lossguide'}. Best is trial 14 with value: 0.8775.\n",
      "[I 2024-04-18 13:05:16,575] Trial 98 finished with value: 0.84875 and parameters: {'booster': 'gbtree', 'lambda': 7.317288674892121e-06, 'alpha': 0.11825020744940977, 'subsample': 0.9083700559676731, 'colsample_bytree': 0.7882285344757142, 'max_depth': 9, 'min_child_weight': 3, 'eta': 0.0399865117486834, 'gamma': 3.214877103414257e-08, 'grow_policy': 'lossguide'}. Best is trial 14 with value: 0.8775.\n",
      "[I 2024-04-18 13:05:16,650] Trial 99 finished with value: 0.84375 and parameters: {'booster': 'gbtree', 'lambda': 3.79120157543358e-07, 'alpha': 0.9697766039001939, 'subsample': 0.6455471235607585, 'colsample_bytree': 0.7163740707992979, 'max_depth': 9, 'min_child_weight': 8, 'eta': 0.021733897345398753, 'gamma': 1.563323766743716e-08, 'grow_policy': 'depthwise'}. Best is trial 14 with value: 0.8775.\n"
     ]
    },
    {
     "name": "stdout",
     "output_type": "stream",
     "text": [
      "Number of finished trials:  100\n",
      "Best trial:\n",
      "  Value: 0.8775\n",
      "  Params: \n",
      "    booster: gbtree\n",
      "    lambda: 1.7530425343203377e-07\n",
      "    alpha: 0.04124730293310747\n",
      "    subsample: 0.8243216661774506\n",
      "    colsample_bytree: 0.969203559750932\n",
      "    max_depth: 9\n",
      "    min_child_weight: 3\n",
      "    eta: 0.05913197693988899\n",
      "    gamma: 1.6977595149678425e-07\n",
      "    grow_policy: lossguide\n"
     ]
    }
   ],
   "source": [
    "study = optuna.create_study(direction=\"maximize\")\n",
    "study.optimize(objective, n_trials=100, timeout=600)\n",
    "\n",
    "print(\"Number of finished trials: \", len(study.trials))\n",
    "print(\"Best trial:\")\n",
    "trial = study.best_trial\n",
    "\n",
    "print(\"  Value: {}\".format(trial.value))\n",
    "print(\"  Params: \")\n",
    "for key, value in trial.params.items():\n",
    "    print(\"    {}: {}\".format(key, value))"
   ]
  },
  {
   "cell_type": "code",
   "execution_count": 14,
   "metadata": {},
   "outputs": [
    {
     "data": {
      "text/plain": [
       "FrozenTrial(number=14, state=TrialState.COMPLETE, values=[0.8775], datetime_start=datetime.datetime(2024, 4, 18, 13, 5, 10, 308874), datetime_complete=datetime.datetime(2024, 4, 18, 13, 5, 10, 380874), params={'booster': 'gbtree', 'lambda': 1.7530425343203377e-07, 'alpha': 0.04124730293310747, 'subsample': 0.8243216661774506, 'colsample_bytree': 0.969203559750932, 'max_depth': 9, 'min_child_weight': 3, 'eta': 0.05913197693988899, 'gamma': 1.6977595149678425e-07, 'grow_policy': 'lossguide'}, user_attrs={}, system_attrs={}, intermediate_values={}, distributions={'booster': CategoricalDistribution(choices=('gbtree', 'gblinear', 'dart')), 'lambda': FloatDistribution(high=1.0, log=True, low=1e-08, step=None), 'alpha': FloatDistribution(high=1.0, log=True, low=1e-08, step=None), 'subsample': FloatDistribution(high=1.0, log=False, low=0.2, step=None), 'colsample_bytree': FloatDistribution(high=1.0, log=False, low=0.2, step=None), 'max_depth': IntDistribution(high=9, log=False, low=3, step=2), 'min_child_weight': IntDistribution(high=10, log=False, low=2, step=1), 'eta': FloatDistribution(high=1.0, log=True, low=1e-08, step=None), 'gamma': FloatDistribution(high=1.0, log=True, low=1e-08, step=None), 'grow_policy': CategoricalDistribution(choices=('depthwise', 'lossguide'))}, trial_id=14, value=None)"
      ]
     },
     "execution_count": 14,
     "metadata": {},
     "output_type": "execute_result"
    }
   ],
   "source": [
    "trial"
   ]
  },
  {
   "cell_type": "code",
   "execution_count": 21,
   "metadata": {},
   "outputs": [],
   "source": [
    "from xgboost import XGBClassifier\n",
    "import pickle\n",
    "a = pickle.load(open('model.pkl', \"rb\"))\n",
    "# xgbc = XGBClassifier()\n",
    "# xgbc.load_model('model.pkl')"
   ]
  },
  {
   "cell_type": "code",
   "execution_count": 34,
   "metadata": {},
   "outputs": [
    {
     "data": {
      "text/html": [
       "<div>\n",
       "<style scoped>\n",
       "    .dataframe tbody tr th:only-of-type {\n",
       "        vertical-align: middle;\n",
       "    }\n",
       "\n",
       "    .dataframe tbody tr th {\n",
       "        vertical-align: top;\n",
       "    }\n",
       "\n",
       "    .dataframe thead th {\n",
       "        text-align: right;\n",
       "    }\n",
       "</style>\n",
       "<table border=\"1\" class=\"dataframe\">\n",
       "  <thead>\n",
       "    <tr style=\"text-align: right;\">\n",
       "      <th></th>\n",
       "      <th>Feature1</th>\n",
       "      <th>Feature2</th>\n",
       "      <th>Feature3</th>\n",
       "      <th>Feature4</th>\n",
       "      <th>Feature5</th>\n",
       "      <th>Feature6</th>\n",
       "      <th>Feature7</th>\n",
       "      <th>Label</th>\n",
       "    </tr>\n",
       "  </thead>\n",
       "  <tbody>\n",
       "    <tr>\n",
       "      <th>0</th>\n",
       "      <td>-3.970049</td>\n",
       "      <td>-2.512336</td>\n",
       "      <td>5.346330</td>\n",
       "      <td>-1.012009</td>\n",
       "      <td>1.844900</td>\n",
       "      <td>0.329840</td>\n",
       "      <td>-0.491590</td>\n",
       "      <td>1</td>\n",
       "    </tr>\n",
       "    <tr>\n",
       "      <th>1</th>\n",
       "      <td>-1.195217</td>\n",
       "      <td>-2.839257</td>\n",
       "      <td>3.664059</td>\n",
       "      <td>1.588232</td>\n",
       "      <td>0.853286</td>\n",
       "      <td>0.867530</td>\n",
       "      <td>-0.722809</td>\n",
       "      <td>1</td>\n",
       "    </tr>\n",
       "    <tr>\n",
       "      <th>2</th>\n",
       "      <td>-0.292024</td>\n",
       "      <td>-1.351282</td>\n",
       "      <td>-1.738429</td>\n",
       "      <td>-0.342616</td>\n",
       "      <td>2.838636</td>\n",
       "      <td>-0.038033</td>\n",
       "      <td>2.621636</td>\n",
       "      <td>0</td>\n",
       "    </tr>\n",
       "    <tr>\n",
       "      <th>3</th>\n",
       "      <td>-0.657196</td>\n",
       "      <td>-2.271627</td>\n",
       "      <td>1.324874</td>\n",
       "      <td>-0.097875</td>\n",
       "      <td>3.637970</td>\n",
       "      <td>-3.413761</td>\n",
       "      <td>0.790723</td>\n",
       "      <td>1</td>\n",
       "    </tr>\n",
       "    <tr>\n",
       "      <th>4</th>\n",
       "      <td>1.364217</td>\n",
       "      <td>-1.296612</td>\n",
       "      <td>-0.384658</td>\n",
       "      <td>-0.553006</td>\n",
       "      <td>3.030874</td>\n",
       "      <td>-1.303849</td>\n",
       "      <td>0.501984</td>\n",
       "      <td>1</td>\n",
       "    </tr>\n",
       "    <tr>\n",
       "      <th>...</th>\n",
       "      <td>...</td>\n",
       "      <td>...</td>\n",
       "      <td>...</td>\n",
       "      <td>...</td>\n",
       "      <td>...</td>\n",
       "      <td>...</td>\n",
       "      <td>...</td>\n",
       "      <td>...</td>\n",
       "    </tr>\n",
       "    <tr>\n",
       "      <th>3195</th>\n",
       "      <td>1.673063</td>\n",
       "      <td>-1.371783</td>\n",
       "      <td>-1.967652</td>\n",
       "      <td>0.111736</td>\n",
       "      <td>1.612901</td>\n",
       "      <td>-0.118002</td>\n",
       "      <td>-0.356564</td>\n",
       "      <td>1</td>\n",
       "    </tr>\n",
       "    <tr>\n",
       "      <th>3196</th>\n",
       "      <td>-2.156864</td>\n",
       "      <td>-1.655429</td>\n",
       "      <td>0.680630</td>\n",
       "      <td>1.499035</td>\n",
       "      <td>0.346765</td>\n",
       "      <td>0.507208</td>\n",
       "      <td>1.584665</td>\n",
       "      <td>0</td>\n",
       "    </tr>\n",
       "    <tr>\n",
       "      <th>3197</th>\n",
       "      <td>0.068512</td>\n",
       "      <td>-1.972440</td>\n",
       "      <td>-0.014678</td>\n",
       "      <td>-0.372102</td>\n",
       "      <td>2.473623</td>\n",
       "      <td>-2.943860</td>\n",
       "      <td>5.529861</td>\n",
       "      <td>0</td>\n",
       "    </tr>\n",
       "    <tr>\n",
       "      <th>3198</th>\n",
       "      <td>-1.355544</td>\n",
       "      <td>1.188881</td>\n",
       "      <td>-2.895093</td>\n",
       "      <td>-0.384314</td>\n",
       "      <td>-2.467256</td>\n",
       "      <td>1.681962</td>\n",
       "      <td>0.601350</td>\n",
       "      <td>0</td>\n",
       "    </tr>\n",
       "    <tr>\n",
       "      <th>3199</th>\n",
       "      <td>-1.245208</td>\n",
       "      <td>-0.679527</td>\n",
       "      <td>1.354301</td>\n",
       "      <td>0.838467</td>\n",
       "      <td>0.126174</td>\n",
       "      <td>0.190773</td>\n",
       "      <td>-2.200126</td>\n",
       "      <td>1</td>\n",
       "    </tr>\n",
       "  </tbody>\n",
       "</table>\n",
       "<p>3200 rows × 8 columns</p>\n",
       "</div>"
      ],
      "text/plain": [
       "      Feature1  Feature2  Feature3  Feature4  Feature5  Feature6  Feature7  \\\n",
       "0    -3.970049 -2.512336  5.346330 -1.012009  1.844900  0.329840 -0.491590   \n",
       "1    -1.195217 -2.839257  3.664059  1.588232  0.853286  0.867530 -0.722809   \n",
       "2    -0.292024 -1.351282 -1.738429 -0.342616  2.838636 -0.038033  2.621636   \n",
       "3    -0.657196 -2.271627  1.324874 -0.097875  3.637970 -3.413761  0.790723   \n",
       "4     1.364217 -1.296612 -0.384658 -0.553006  3.030874 -1.303849  0.501984   \n",
       "...        ...       ...       ...       ...       ...       ...       ...   \n",
       "3195  1.673063 -1.371783 -1.967652  0.111736  1.612901 -0.118002 -0.356564   \n",
       "3196 -2.156864 -1.655429  0.680630  1.499035  0.346765  0.507208  1.584665   \n",
       "3197  0.068512 -1.972440 -0.014678 -0.372102  2.473623 -2.943860  5.529861   \n",
       "3198 -1.355544  1.188881 -2.895093 -0.384314 -2.467256  1.681962  0.601350   \n",
       "3199 -1.245208 -0.679527  1.354301  0.838467  0.126174  0.190773 -2.200126   \n",
       "\n",
       "      Label  \n",
       "0         1  \n",
       "1         1  \n",
       "2         0  \n",
       "3         1  \n",
       "4         1  \n",
       "...     ...  \n",
       "3195      1  \n",
       "3196      0  \n",
       "3197      0  \n",
       "3198      0  \n",
       "3199      1  \n",
       "\n",
       "[3200 rows x 8 columns]"
      ]
     },
     "execution_count": 34,
     "metadata": {},
     "output_type": "execute_result"
    }
   ],
   "source": [
    "df"
   ]
  },
  {
   "cell_type": "code",
   "execution_count": 35,
   "metadata": {},
   "outputs": [
    {
     "ename": "FileNotFoundError",
     "evalue": "[Errno 2] No such file or directory: 'AutogluonModels\\\\ag-20240417_070035\\\\models\\\\XGBoost_r98_BAG_L2\\\\..\\\\..\\\\..\\\\..\\\\KNeighborsUnif_BAG_L1\\\\model.pkl'",
     "output_type": "error",
     "traceback": [
      "\u001b[1;31m---------------------------------------------------------------------------\u001b[0m",
      "\u001b[1;31mFileNotFoundError\u001b[0m                         Traceback (most recent call last)",
      "Cell \u001b[1;32mIn[35], line 1\u001b[0m\n\u001b[1;32m----> 1\u001b[0m \u001b[43ma\u001b[49m\u001b[38;5;241;43m.\u001b[39;49m\u001b[43mpredict\u001b[49m\u001b[43m(\u001b[49m\u001b[43mdf\u001b[49m\u001b[43m)\u001b[49m\n",
      "File \u001b[1;32md:\\Apps\\conda\\envs\\ml\\lib\\site-packages\\autogluon\\core\\models\\abstract\\abstract_model.py:936\u001b[0m, in \u001b[0;36mAbstractModel.predict\u001b[1;34m(self, X, **kwargs)\u001b[0m\n\u001b[0;32m    930\u001b[0m \u001b[38;5;28;01mdef\u001b[39;00m \u001b[38;5;21mpredict\u001b[39m(\u001b[38;5;28mself\u001b[39m, X, \u001b[38;5;241m*\u001b[39m\u001b[38;5;241m*\u001b[39mkwargs) \u001b[38;5;241m-\u001b[39m\u001b[38;5;241m>\u001b[39m np\u001b[38;5;241m.\u001b[39mndarray:\n\u001b[0;32m    931\u001b[0m \u001b[38;5;250m    \u001b[39m\u001b[38;5;124;03m\"\"\"\u001b[39;00m\n\u001b[0;32m    932\u001b[0m \u001b[38;5;124;03m    Returns class predictions of X.\u001b[39;00m\n\u001b[0;32m    933\u001b[0m \u001b[38;5;124;03m    For binary and multiclass problems, this returns the predicted class labels as a Series.\u001b[39;00m\n\u001b[0;32m    934\u001b[0m \u001b[38;5;124;03m    For regression problems, this returns the predicted values as a Series.\u001b[39;00m\n\u001b[0;32m    935\u001b[0m \u001b[38;5;124;03m    \"\"\"\u001b[39;00m\n\u001b[1;32m--> 936\u001b[0m     y_pred_proba \u001b[38;5;241m=\u001b[39m \u001b[38;5;28mself\u001b[39m\u001b[38;5;241m.\u001b[39mpredict_proba(X, \u001b[38;5;241m*\u001b[39m\u001b[38;5;241m*\u001b[39mkwargs)\n\u001b[0;32m    937\u001b[0m     y_pred \u001b[38;5;241m=\u001b[39m get_pred_from_proba(y_pred_proba\u001b[38;5;241m=\u001b[39my_pred_proba, problem_type\u001b[38;5;241m=\u001b[39m\u001b[38;5;28mself\u001b[39m\u001b[38;5;241m.\u001b[39mproblem_type)\n\u001b[0;32m    938\u001b[0m     \u001b[38;5;28;01mreturn\u001b[39;00m y_pred\n",
      "File \u001b[1;32md:\\Apps\\conda\\envs\\ml\\lib\\site-packages\\autogluon\\core\\models\\ensemble\\bagged_ensemble_model.py:440\u001b[0m, in \u001b[0;36mBaggedEnsembleModel.predict_proba\u001b[1;34m(self, X, normalize, **kwargs)\u001b[0m\n\u001b[0;32m    438\u001b[0m \u001b[38;5;28;01mdef\u001b[39;00m \u001b[38;5;21mpredict_proba\u001b[39m(\u001b[38;5;28mself\u001b[39m, X, normalize\u001b[38;5;241m=\u001b[39m\u001b[38;5;28;01mNone\u001b[39;00m, \u001b[38;5;241m*\u001b[39m\u001b[38;5;241m*\u001b[39mkwargs):\n\u001b[0;32m    439\u001b[0m     model \u001b[38;5;241m=\u001b[39m \u001b[38;5;28mself\u001b[39m\u001b[38;5;241m.\u001b[39mload_child(\u001b[38;5;28mself\u001b[39m\u001b[38;5;241m.\u001b[39mmodels[\u001b[38;5;241m0\u001b[39m])\n\u001b[1;32m--> 440\u001b[0m     X \u001b[38;5;241m=\u001b[39m \u001b[38;5;28mself\u001b[39m\u001b[38;5;241m.\u001b[39mpreprocess(X, model\u001b[38;5;241m=\u001b[39mmodel, \u001b[38;5;241m*\u001b[39m\u001b[38;5;241m*\u001b[39mkwargs)\n\u001b[0;32m    441\u001b[0m     pred_proba \u001b[38;5;241m=\u001b[39m model\u001b[38;5;241m.\u001b[39mpredict_proba(X\u001b[38;5;241m=\u001b[39mX, preprocess_nonadaptive\u001b[38;5;241m=\u001b[39m\u001b[38;5;28;01mFalse\u001b[39;00m, normalize\u001b[38;5;241m=\u001b[39mnormalize)\n\u001b[0;32m    442\u001b[0m     \u001b[38;5;28;01mfor\u001b[39;00m model \u001b[38;5;129;01min\u001b[39;00m \u001b[38;5;28mself\u001b[39m\u001b[38;5;241m.\u001b[39mmodels[\u001b[38;5;241m1\u001b[39m:]:\n",
      "File \u001b[1;32md:\\Apps\\conda\\envs\\ml\\lib\\site-packages\\autogluon\\core\\models\\ensemble\\stacker_ensemble_model.py:134\u001b[0m, in \u001b[0;36mStackerEnsembleModel.preprocess\u001b[1;34m(self, X, fit, compute_base_preds, infer, model_pred_proba_dict, **kwargs)\u001b[0m\n\u001b[0;32m    132\u001b[0m     y_pred_proba \u001b[38;5;241m=\u001b[39m model_pred_proba_dict[base_model_name]\n\u001b[0;32m    133\u001b[0m \u001b[38;5;28;01melse\u001b[39;00m:\n\u001b[1;32m--> 134\u001b[0m     base_model \u001b[38;5;241m=\u001b[39m \u001b[38;5;28;43mself\u001b[39;49m\u001b[38;5;241;43m.\u001b[39;49m\u001b[43mload_base_model\u001b[49m\u001b[43m(\u001b[49m\u001b[43mbase_model_name\u001b[49m\u001b[43m)\u001b[49m\n\u001b[0;32m    135\u001b[0m     y_pred_proba \u001b[38;5;241m=\u001b[39m base_model\u001b[38;5;241m.\u001b[39mpredict_proba(X)\n\u001b[0;32m    136\u001b[0m X_stacker\u001b[38;5;241m.\u001b[39mappend(\n\u001b[0;32m    137\u001b[0m     y_pred_proba\n\u001b[0;32m    138\u001b[0m )  \u001b[38;5;66;03m# TODO: This could get very large on a high class count problem. Consider capping to top N most frequent classes and merging least frequent\u001b[39;00m\n",
      "File \u001b[1;32md:\\Apps\\conda\\envs\\ml\\lib\\site-packages\\autogluon\\core\\models\\ensemble\\stacker_ensemble_model.py:204\u001b[0m, in \u001b[0;36mStackerEnsembleModel.load_base_model\u001b[1;34m(self, model_name)\u001b[0m\n\u001b[0;32m    202\u001b[0m     model_type \u001b[38;5;241m=\u001b[39m \u001b[38;5;28mself\u001b[39m\u001b[38;5;241m.\u001b[39mbase_model_types_dict[model_name]\n\u001b[0;32m    203\u001b[0m     model_path \u001b[38;5;241m=\u001b[39m os\u001b[38;5;241m.\u001b[39mpath\u001b[38;5;241m.\u001b[39mjoin(\u001b[38;5;28mself\u001b[39m\u001b[38;5;241m.\u001b[39mpath, \u001b[38;5;28mself\u001b[39m\u001b[38;5;241m.\u001b[39mbase_model_paths_dict[model_name])\n\u001b[1;32m--> 204\u001b[0m     model \u001b[38;5;241m=\u001b[39m \u001b[43mmodel_type\u001b[49m\u001b[38;5;241;43m.\u001b[39;49m\u001b[43mload\u001b[49m\u001b[43m(\u001b[49m\u001b[43mmodel_path\u001b[49m\u001b[43m)\u001b[49m\n\u001b[0;32m    205\u001b[0m \u001b[38;5;28;01mreturn\u001b[39;00m model\n",
      "File \u001b[1;32md:\\Apps\\conda\\envs\\ml\\lib\\site-packages\\autogluon\\core\\models\\ensemble\\bagged_ensemble_model.py:1083\u001b[0m, in \u001b[0;36mBaggedEnsembleModel.load\u001b[1;34m(cls, path, reset_paths, low_memory, load_oof, verbose)\u001b[0m\n\u001b[0;32m   1081\u001b[0m \u001b[38;5;129m@classmethod\u001b[39m\n\u001b[0;32m   1082\u001b[0m \u001b[38;5;28;01mdef\u001b[39;00m \u001b[38;5;21mload\u001b[39m(\u001b[38;5;28mcls\u001b[39m, path: \u001b[38;5;28mstr\u001b[39m, reset_paths\u001b[38;5;241m=\u001b[39m\u001b[38;5;28;01mTrue\u001b[39;00m, low_memory\u001b[38;5;241m=\u001b[39m\u001b[38;5;28;01mTrue\u001b[39;00m, load_oof\u001b[38;5;241m=\u001b[39m\u001b[38;5;28;01mFalse\u001b[39;00m, verbose\u001b[38;5;241m=\u001b[39m\u001b[38;5;28;01mTrue\u001b[39;00m):\n\u001b[1;32m-> 1083\u001b[0m     model \u001b[38;5;241m=\u001b[39m \u001b[38;5;28;43msuper\u001b[39;49m\u001b[43m(\u001b[49m\u001b[43m)\u001b[49m\u001b[38;5;241;43m.\u001b[39;49m\u001b[43mload\u001b[49m\u001b[43m(\u001b[49m\u001b[43mpath\u001b[49m\u001b[38;5;241;43m=\u001b[39;49m\u001b[43mpath\u001b[49m\u001b[43m,\u001b[49m\u001b[43m \u001b[49m\u001b[43mreset_paths\u001b[49m\u001b[38;5;241;43m=\u001b[39;49m\u001b[43mreset_paths\u001b[49m\u001b[43m,\u001b[49m\u001b[43m \u001b[49m\u001b[43mverbose\u001b[49m\u001b[38;5;241;43m=\u001b[39;49m\u001b[43mverbose\u001b[49m\u001b[43m)\u001b[49m\n\u001b[0;32m   1084\u001b[0m     \u001b[38;5;28;01mif\u001b[39;00m \u001b[38;5;129;01mnot\u001b[39;00m low_memory:\n\u001b[0;32m   1085\u001b[0m         model\u001b[38;5;241m.\u001b[39mpersist_child_models(reset_paths\u001b[38;5;241m=\u001b[39mreset_paths)\n",
      "File \u001b[1;32md:\\Apps\\conda\\envs\\ml\\lib\\site-packages\\autogluon\\core\\models\\abstract\\abstract_model.py:1096\u001b[0m, in \u001b[0;36mAbstractModel.load\u001b[1;34m(cls, path, reset_paths, verbose)\u001b[0m\n\u001b[0;32m   1074\u001b[0m \u001b[38;5;250m\u001b[39m\u001b[38;5;124;03m\"\"\"\u001b[39;00m\n\u001b[0;32m   1075\u001b[0m \u001b[38;5;124;03mLoads the model from disk to memory.\u001b[39;00m\n\u001b[0;32m   1076\u001b[0m \n\u001b[1;32m   (...)\u001b[0m\n\u001b[0;32m   1093\u001b[0m \u001b[38;5;124;03m    Loaded model object.\u001b[39;00m\n\u001b[0;32m   1094\u001b[0m \u001b[38;5;124;03m\"\"\"\u001b[39;00m\n\u001b[0;32m   1095\u001b[0m file_path \u001b[38;5;241m=\u001b[39m os\u001b[38;5;241m.\u001b[39mpath\u001b[38;5;241m.\u001b[39mjoin(path, \u001b[38;5;28mcls\u001b[39m\u001b[38;5;241m.\u001b[39mmodel_file_name)\n\u001b[1;32m-> 1096\u001b[0m model \u001b[38;5;241m=\u001b[39m \u001b[43mload_pkl\u001b[49m\u001b[38;5;241;43m.\u001b[39;49m\u001b[43mload\u001b[49m\u001b[43m(\u001b[49m\u001b[43mpath\u001b[49m\u001b[38;5;241;43m=\u001b[39;49m\u001b[43mfile_path\u001b[49m\u001b[43m,\u001b[49m\u001b[43m \u001b[49m\u001b[43mverbose\u001b[49m\u001b[38;5;241;43m=\u001b[39;49m\u001b[43mverbose\u001b[49m\u001b[43m)\u001b[49m\n\u001b[0;32m   1097\u001b[0m \u001b[38;5;28;01mif\u001b[39;00m reset_paths:\n\u001b[0;32m   1098\u001b[0m     model\u001b[38;5;241m.\u001b[39mset_contexts(path)\n",
      "File \u001b[1;32md:\\Apps\\conda\\envs\\ml\\lib\\site-packages\\autogluon\\common\\loaders\\load_pkl.py:43\u001b[0m, in \u001b[0;36mload\u001b[1;34m(path, format, verbose, **kwargs)\u001b[0m\n\u001b[0;32m     40\u001b[0m     compression_fn_kwargs \u001b[38;5;241m=\u001b[39m {}\n\u001b[0;32m     42\u001b[0m \u001b[38;5;28;01mif\u001b[39;00m compression_fn \u001b[38;5;129;01min\u001b[39;00m compression_fn_map:\n\u001b[1;32m---> 43\u001b[0m     \u001b[38;5;28;01mwith\u001b[39;00m compression_fn_map[compression_fn][\u001b[38;5;124m\"\u001b[39m\u001b[38;5;124mopen\u001b[39m\u001b[38;5;124m\"\u001b[39m](validated_path, \u001b[38;5;124m\"\u001b[39m\u001b[38;5;124mrb\u001b[39m\u001b[38;5;124m\"\u001b[39m, \u001b[38;5;241m*\u001b[39m\u001b[38;5;241m*\u001b[39mcompression_fn_kwargs) \u001b[38;5;28;01mas\u001b[39;00m fin:\n\u001b[0;32m     44\u001b[0m         \u001b[38;5;28mobject\u001b[39m \u001b[38;5;241m=\u001b[39m pickle\u001b[38;5;241m.\u001b[39mload(fin)\n\u001b[0;32m     45\u001b[0m \u001b[38;5;28;01melse\u001b[39;00m:\n",
      "\u001b[1;31mFileNotFoundError\u001b[0m: [Errno 2] No such file or directory: 'AutogluonModels\\\\ag-20240417_070035\\\\models\\\\XGBoost_r98_BAG_L2\\\\..\\\\..\\\\..\\\\..\\\\KNeighborsUnif_BAG_L1\\\\model.pkl'"
     ]
    }
   ],
   "source": [
    "a.predict(df)"
   ]
  },
  {
   "cell_type": "code",
   "execution_count": 16,
   "metadata": {},
   "outputs": [
    {
     "data": {
      "text/html": [
       "<style>#sk-container-id-1 {color: black;}#sk-container-id-1 pre{padding: 0;}#sk-container-id-1 div.sk-toggleable {background-color: white;}#sk-container-id-1 label.sk-toggleable__label {cursor: pointer;display: block;width: 100%;margin-bottom: 0;padding: 0.3em;box-sizing: border-box;text-align: center;}#sk-container-id-1 label.sk-toggleable__label-arrow:before {content: \"▸\";float: left;margin-right: 0.25em;color: #696969;}#sk-container-id-1 label.sk-toggleable__label-arrow:hover:before {color: black;}#sk-container-id-1 div.sk-estimator:hover label.sk-toggleable__label-arrow:before {color: black;}#sk-container-id-1 div.sk-toggleable__content {max-height: 0;max-width: 0;overflow: hidden;text-align: left;background-color: #f0f8ff;}#sk-container-id-1 div.sk-toggleable__content pre {margin: 0.2em;color: black;border-radius: 0.25em;background-color: #f0f8ff;}#sk-container-id-1 input.sk-toggleable__control:checked~div.sk-toggleable__content {max-height: 200px;max-width: 100%;overflow: auto;}#sk-container-id-1 input.sk-toggleable__control:checked~label.sk-toggleable__label-arrow:before {content: \"▾\";}#sk-container-id-1 div.sk-estimator input.sk-toggleable__control:checked~label.sk-toggleable__label {background-color: #d4ebff;}#sk-container-id-1 div.sk-label input.sk-toggleable__control:checked~label.sk-toggleable__label {background-color: #d4ebff;}#sk-container-id-1 input.sk-hidden--visually {border: 0;clip: rect(1px 1px 1px 1px);clip: rect(1px, 1px, 1px, 1px);height: 1px;margin: -1px;overflow: hidden;padding: 0;position: absolute;width: 1px;}#sk-container-id-1 div.sk-estimator {font-family: monospace;background-color: #f0f8ff;border: 1px dotted black;border-radius: 0.25em;box-sizing: border-box;margin-bottom: 0.5em;}#sk-container-id-1 div.sk-estimator:hover {background-color: #d4ebff;}#sk-container-id-1 div.sk-parallel-item::after {content: \"\";width: 100%;border-bottom: 1px solid gray;flex-grow: 1;}#sk-container-id-1 div.sk-label:hover label.sk-toggleable__label {background-color: #d4ebff;}#sk-container-id-1 div.sk-serial::before {content: \"\";position: absolute;border-left: 1px solid gray;box-sizing: border-box;top: 0;bottom: 0;left: 50%;z-index: 0;}#sk-container-id-1 div.sk-serial {display: flex;flex-direction: column;align-items: center;background-color: white;padding-right: 0.2em;padding-left: 0.2em;position: relative;}#sk-container-id-1 div.sk-item {position: relative;z-index: 1;}#sk-container-id-1 div.sk-parallel {display: flex;align-items: stretch;justify-content: center;background-color: white;position: relative;}#sk-container-id-1 div.sk-item::before, #sk-container-id-1 div.sk-parallel-item::before {content: \"\";position: absolute;border-left: 1px solid gray;box-sizing: border-box;top: 0;bottom: 0;left: 50%;z-index: -1;}#sk-container-id-1 div.sk-parallel-item {display: flex;flex-direction: column;z-index: 1;position: relative;background-color: white;}#sk-container-id-1 div.sk-parallel-item:first-child::after {align-self: flex-end;width: 50%;}#sk-container-id-1 div.sk-parallel-item:last-child::after {align-self: flex-start;width: 50%;}#sk-container-id-1 div.sk-parallel-item:only-child::after {width: 0;}#sk-container-id-1 div.sk-dashed-wrapped {border: 1px dashed gray;margin: 0 0.4em 0.5em 0.4em;box-sizing: border-box;padding-bottom: 0.4em;background-color: white;}#sk-container-id-1 div.sk-label label {font-family: monospace;font-weight: bold;display: inline-block;line-height: 1.2em;}#sk-container-id-1 div.sk-label-container {text-align: center;}#sk-container-id-1 div.sk-container {/* jupyter's `normalize.less` sets `[hidden] { display: none; }` but bootstrap.min.css set `[hidden] { display: none !important; }` so we also need the `!important` here to be able to override the default hidden behavior on the sphinx rendered scikit-learn.org. See: https://github.com/scikit-learn/scikit-learn/issues/21755 */display: inline-block !important;position: relative;}#sk-container-id-1 div.sk-text-repr-fallback {display: none;}</style><div id=\"sk-container-id-1\" class=\"sk-top-container\"><div class=\"sk-text-repr-fallback\"><pre>XGBClassifier(alpha=0.04124730293310747, base_score=None, booster=&#x27;gbtree&#x27;,\n",
       "              callbacks=None, colsample_bylevel=None, colsample_bynode=None,\n",
       "              colsample_bytree=0.969203559750932, early_stopping_rounds=None,\n",
       "              enable_categorical=False, eta=0.05913197693988899,\n",
       "              eval_metric=None, feature_types=None,\n",
       "              gamma=1.6977595149678425e-07, gpu_id=None,\n",
       "              grow_policy=&#x27;lossguide&#x27;, importance_type=None,\n",
       "              interaction_constraints=None, lambda=1.7530425343203377e-07,\n",
       "              learning_rate=None, max_bin=None, max_cat_threshold=None,\n",
       "              max_cat_to_onehot=None, max_delta_step=None, max_depth=9,\n",
       "              max_leaves=None, min_child_weight=3, missing=nan,\n",
       "              monotone_constraints=None, n_estimators=100, n_jobs=None, ...)</pre><b>In a Jupyter environment, please rerun this cell to show the HTML representation or trust the notebook. <br />On GitHub, the HTML representation is unable to render, please try loading this page with nbviewer.org.</b></div><div class=\"sk-container\" hidden><div class=\"sk-item\"><div class=\"sk-estimator sk-toggleable\"><input class=\"sk-toggleable__control sk-hidden--visually\" id=\"sk-estimator-id-1\" type=\"checkbox\" checked><label for=\"sk-estimator-id-1\" class=\"sk-toggleable__label sk-toggleable__label-arrow\">XGBClassifier</label><div class=\"sk-toggleable__content\"><pre>XGBClassifier(alpha=0.04124730293310747, base_score=None, booster=&#x27;gbtree&#x27;,\n",
       "              callbacks=None, colsample_bylevel=None, colsample_bynode=None,\n",
       "              colsample_bytree=0.969203559750932, early_stopping_rounds=None,\n",
       "              enable_categorical=False, eta=0.05913197693988899,\n",
       "              eval_metric=None, feature_types=None,\n",
       "              gamma=1.6977595149678425e-07, gpu_id=None,\n",
       "              grow_policy=&#x27;lossguide&#x27;, importance_type=None,\n",
       "              interaction_constraints=None, lambda=1.7530425343203377e-07,\n",
       "              learning_rate=None, max_bin=None, max_cat_threshold=None,\n",
       "              max_cat_to_onehot=None, max_delta_step=None, max_depth=9,\n",
       "              max_leaves=None, min_child_weight=3, missing=nan,\n",
       "              monotone_constraints=None, n_estimators=100, n_jobs=None, ...)</pre></div></div></div></div></div>"
      ],
      "text/plain": [
       "XGBClassifier(alpha=0.04124730293310747, base_score=None, booster='gbtree',\n",
       "              callbacks=None, colsample_bylevel=None, colsample_bynode=None,\n",
       "              colsample_bytree=0.969203559750932, early_stopping_rounds=None,\n",
       "              enable_categorical=False, eta=0.05913197693988899,\n",
       "              eval_metric=None, feature_types=None,\n",
       "              gamma=1.6977595149678425e-07, gpu_id=None,\n",
       "              grow_policy='lossguide', importance_type=None,\n",
       "              interaction_constraints=None, lambda=1.7530425343203377e-07,\n",
       "              learning_rate=None, max_bin=None, max_cat_threshold=None,\n",
       "              max_cat_to_onehot=None, max_delta_step=None, max_depth=9,\n",
       "              max_leaves=None, min_child_weight=3, missing=nan,\n",
       "              monotone_constraints=None, n_estimators=100, n_jobs=None, ...)"
      ]
     },
     "execution_count": 16,
     "metadata": {},
     "output_type": "execute_result"
    }
   ],
   "source": [
    "train_x, train_y = get_data()\n",
    "xgbc.fit(train_x, train_y)"
   ]
  },
  {
   "cell_type": "code",
   "execution_count": 17,
   "metadata": {},
   "outputs": [],
   "source": [
    "x_test = pd.read_csv('../data/validation.csv').drop(columns=['Label']).values\n",
    "y_test = pd.read_csv('../data/validation.csv')['Label'].values"
   ]
  },
  {
   "cell_type": "code",
   "execution_count": 18,
   "metadata": {},
   "outputs": [
    {
     "data": {
      "text/plain": [
       "0.8925"
      ]
     },
     "execution_count": 18,
     "metadata": {},
     "output_type": "execute_result"
    }
   ],
   "source": [
    "xgbc.score(x_test, y_test)"
   ]
  },
  {
   "cell_type": "code",
   "execution_count": null,
   "metadata": {},
   "outputs": [],
   "source": []
  }
 ],
 "metadata": {
  "kernelspec": {
   "display_name": "ml",
   "language": "python",
   "name": "python3"
  },
  "language_info": {
   "codemirror_mode": {
    "name": "ipython",
    "version": 3
   },
   "file_extension": ".py",
   "mimetype": "text/x-python",
   "name": "python",
   "nbconvert_exporter": "python",
   "pygments_lexer": "ipython3",
   "version": "3.10.14"
  }
 },
 "nbformat": 4,
 "nbformat_minor": 2
}
